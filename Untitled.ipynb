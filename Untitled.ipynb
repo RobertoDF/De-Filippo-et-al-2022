{
 "cells": [
  {
   "cell_type": "code",
   "execution_count": 355,
   "id": "a2d3d73d-98f2-4313-960e-4f80fe919293",
   "metadata": {
    "tags": []
   },
   "outputs": [],
   "source": [
    "import pandas as pd\n",
    "import dill\n",
    "import numpy as np\n",
    "from allensdk.brain_observatory.ecephys.ecephys_project_cache import EcephysProjectCache\n",
    "from rich import print\n",
    "from tqdm.auto import tqdm\n",
    "from time import perf_counter\n",
    "from operator import itemgetter\n",
    "from scipy.stats import zscore\n",
    "from Utils.Settings import window_spike_hist, output_folder_calculations, neuropixel_dataset, var_thr, minimum_ripples_count_spike_analysis, minimum_ripples_count_generated_in_lateral_or_medial_spike_analysis\n",
    "from Utils.Utils import acronym_to_main_area, clean_ripples_calculations, find_ripples_clusters_new, \\\n",
    "    batch_process_spike_hists_by_seed_location, process_spike_hists\n",
    "import matplotlib.pyplot as plt\n",
    "from multiprocessing import Pool, Manager"
   ]
  },
  {
   "cell_type": "code",
   "execution_count": 160,
   "id": "84dfb446-2a8a-49da-bca8-cd1754a47294",
   "metadata": {
    "tags": []
   },
   "outputs": [],
   "source": [
    "pd.set_option('display.max_rows', None)\n",
    "pd.set_option('display.max_columns', None)"
   ]
  },
  {
   "cell_type": "code",
   "execution_count": 39,
   "id": "bd6fb1e6-1833-4039-a94d-92250d59c881",
   "metadata": {
    "tags": []
   },
   "outputs": [],
   "source": [
    "\n",
    "all_areas_recorded = [item for sublist in  sessions[\"ecephys_structure_acronyms\"].to_list() for item in sublist]"
   ]
  },
  {
   "cell_type": "code",
   "execution_count": 41,
   "id": "a0ff4a40-aae1-42ae-a564-f56340a43c9a",
   "metadata": {
    "tags": []
   },
   "outputs": [],
   "source": [
    "#pd.Series(all_areas_recorded).value_counts()#.plot.hist()\n"
   ]
  },
  {
   "cell_type": "code",
   "execution_count": 33,
   "id": "1d12f95e-aea5-4b07-9477-cc4982172872",
   "metadata": {
    "tags": []
   },
   "outputs": [],
   "source": [
    "t1_start = perf_counter()\n",
    "\n",
    "manifest_path = f\"{neuropixel_dataset}/manifest.json\"\n",
    "\n",
    "cache = EcephysProjectCache.from_warehouse(manifest=manifest_path)\n",
    "\n",
    "sessions = cache.get_session_table()\n",
    "#ProfileReport(sessions)\n",
    "\n",
    "with open(f'{output_folder_calculations}/clean_ripples_calculations.pkl', 'rb') as f:\n",
    "    ripples_calcs = dill.load(f)\n",
    "\n",
    "\n",
    "spike_hists = {}\n",
    "\n",
    "input_rip = []\n",
    "for session_id in ripples_calcs.keys():\n",
    "    ripples = ripples_calcs[session_id][3].copy()\n",
    "    ripples = ripples.groupby(\"Probe number-area\").filter(lambda group: group[\"∫Ripple\"].var() > var_thr)\n",
    "    input_rip.append(ripples.groupby(\"Probe number-area\").mean()[\"L-R (µm)\"])\n",
    "\n",
    "lr_space = pd.concat(input_rip)\n",
    "\n",
    "medial_lim = lr_space.quantile(.33333)\n",
    "lateral_lim = lr_space.quantile(.666666)\n",
    "center = lr_space.median()\n",
    "medial_lim_lm = medial_lim - 5691.510009765625\n",
    "lateral_lim_lm = lateral_lim - 5691.510009765625\n",
    "\n",
    "def l_m_classifier(row):\n",
    "    if row[\"Source M-L (µm)\"] < medial_lim_lm:\n",
    "        v = \"Medial\"\n",
    "    elif row[\"Source M-L (µm)\"] > lateral_lim_lm:\n",
    "        v = \"Lateral\"\n",
    "    else:\n",
    "        v = \"Central\"\n",
    "    return v"
   ]
  },
  {
   "cell_type": "code",
   "execution_count": null,
   "id": "a17b6239-1825-40db-bb35-41df16b0ea56",
   "metadata": {},
   "outputs": [
    {
     "data": {
      "text/plain": [
       "dict_keys([715093703, 719161530, 721123822, 743475441, 744228101, 750332458, 750749662, 751348571, 754312389, 754829445, 755434585, 757216464, 757970808, 758798717, 759883607, 760345702, 761418226, 762602078, 763673393, 766640955, 767871931, 768515987, 771160300, 771990200, 773418906, 774875821, 778240327, 778998620, 779839471, 781842082, 786091066, 787025148, 789848216, 791319847, 793224716, 794812542, 797828357, 798911424, 799864342, 816200189, 819186360, 819701982, 821695405, 829720705, 831882777, 835479236, 839068429, 840012044, 847657808])"
      ]
     },
     "execution_count": 3,
     "metadata": {},
     "output_type": "execute_result"
    }
   ],
   "source": [
    "ripples_calcs.keys()"
   ]
  },
  {
   "cell_type": "code",
   "execution_count": 351,
   "id": "e46fbe1e-575d-488d-8659-167a74e4aeb9",
   "metadata": {
    "tags": []
   },
   "outputs": [],
   "source": [
    "session_id = 771990200\n",
    "spikes_summary = {}"
   ]
  },
  {
   "cell_type": "code",
   "execution_count": 359,
   "id": "b6dc71d4-302b-4379-b523-5ebe6698c09b",
   "metadata": {
    "tags": []
   },
   "outputs": [],
   "source": [
    "def process(session_id, spikes_summary):\n",
    "    print(session_id)\n",
    "\n",
    "    session = cache.get_session_data(session_id)  # , amplitude_cutoff_maximum = np.inf, presence_ratio_minimum = -np.inf, isi_violations_maximum = np.inf)\n",
    "\n",
    "    units = session.units\n",
    "    units[\"parent area\"] = units[\"ecephys_structure_acronym\"].apply(lambda area: acronym_to_main_area(area))\n",
    "\n",
    "\n",
    "    # #  each area, change output name accordingly\n",
    "    areas = np.delete(units[\"parent area\"].unique(),\n",
    "                      np.argwhere(units[\"parent area\"].unique() == \"grey\"))  # delete grey if present\n",
    "\n",
    "    if \"HPF\" in areas:\n",
    "        areas = [\"HPF\"]\n",
    "    else:\n",
    "        return\n",
    "\n",
    "    print(f\"In session {session_id} areas recorded: {areas}\")\n",
    "\n",
    "    spike_times = session.spike_times\n",
    "\n",
    "    ripples = ripples_calcs[session_id][3].copy()\n",
    "\n",
    "    sel_probe = ripples_calcs[session_id][5]\n",
    "\n",
    "    print(f\"number ripples on best probe: {ripples[ripples['Probe number'] == sel_probe].shape[0]}\")\n",
    "\n",
    "    if ripples[ripples['Probe number'] == sel_probe].shape[0] < minimum_ripples_count_spike_analysis:\n",
    "        return\n",
    "\n",
    "    ripples = ripples.groupby(\"Probe number-area\").filter(lambda group: group[\"∫Ripple\"].var() > var_thr)\n",
    "\n",
    "    ripples = ripples.sort_values(by=\"Start (s)\").reset_index(drop=True)\n",
    "    ripples = ripples[ripples[\"Area\"] == \"CA1\"]\n",
    "    ripples = ripples.reset_index().rename(columns={'index': 'Ripple number'})\n",
    "\n",
    "    print(session_id, \"Recording in each ML section:\",\n",
    "          np.any(ripples[\"L-R (µm)\"].unique() < medial_lim) & np.any(ripples[\"L-R (µm)\"].unique() > lateral_lim) & \\\n",
    "          np.any((ripples[\"L-R (µm)\"].unique() > medial_lim) & (ripples[\"L-R (µm)\"].unique() < lateral_lim)))\n",
    "\n",
    "    if np.any(ripples[\"L-R (µm)\"].unique() < medial_lim) & np.any(ripples[\"L-R (µm)\"].unique() > lateral_lim) & \\\n",
    "            np.any((ripples[\"L-R (µm)\"].unique() > medial_lim) & (ripples[\"L-R (µm)\"].unique() < lateral_lim)) == False:\n",
    "        return\n",
    "\n",
    "    ripples[\"Local strong\"] = ripples.groupby(\"Probe number\").apply(\n",
    "        lambda x: x[\"∫Ripple\"] > x[\"∫Ripple\"].quantile(.9)).sort_index(level=1).values\n",
    "\n",
    "    try:\n",
    "        ripples[\"Z-scored ∫Ripple\"] = ripples.groupby(\"Probe number-area\").apply(\n",
    "            lambda group: zscore(group[\"∫Ripple\"], ddof=1)).droplevel(0)\n",
    "    except:\n",
    "        ripples[\"Z-scored ∫Ripple\"] = ripples.groupby(\"Probe number-area\").apply(\n",
    "            lambda group: zscore(group[\"∫Ripple\"], ddof=1)).T\n",
    "\n",
    "    to_loop = []\n",
    "    to_loop.append((ripples.groupby(\"Probe number-area\").mean()['L-R (µm)'].sub(center).abs().idxmin(), \"central\"))\n",
    "\n",
    "    print(f\"In session {session_id} process:{to_loop}\")\n",
    "    if ripples.shape[0] > 0:\n",
    "        for source_area, type_source in to_loop:\n",
    "\n",
    "            real_ripple_summary = find_ripples_clusters_new(ripples, source_area)\n",
    "            real_ripple_summary = real_ripple_summary[real_ripple_summary[\"Spatial engagement\"]>.5]\n",
    "            real_ripple_summary[\"Location seed\"] = real_ripple_summary.apply(l_m_classifier, axis=1)\n",
    "\n",
    "            print(f\"in {session_id}, medial ripples number: {real_ripple_summary[real_ripple_summary['Location seed'] == 'Medial'].shape[0]}, \" \\\n",
    "                  f\"lateral ripples number: {real_ripple_summary[real_ripple_summary['Location seed'] == 'Lateral'].shape[0]}\")\n",
    "            if (real_ripple_summary[real_ripple_summary[\"Location seed\"] == \"Medial\"].shape[0] < minimum_ripples_count_generated_in_lateral_or_medial_spike_analysis) or \\\n",
    "                    (real_ripple_summary[real_ripple_summary[\"Location seed\"] == \"Lateral\"].shape[0] < minimum_ripples_count_generated_in_lateral_or_medial_spike_analysis):\n",
    "                return\n",
    "\n",
    "    field_to_use_to_compare = \"parent area\"\n",
    "    target_area = \"HPF\"\n",
    "\n",
    "    #space_sub_spike_times = dict(zip(units[units[field_to_use_to_compare] == target_area].index,\n",
    "     #                                itemgetter(*units[units[field_to_use_to_compare] == target_area].index)(\n",
    "     #                                    spike_times)))\n",
    "    space_sub_spike_times = dict(zip(units.index,\n",
    "                                     itemgetter(*units.index)(\n",
    "                                         spike_times)))\n",
    "    window = [.10, .12]\n",
    "    spikes_per_ripple_medial = {}\n",
    "    for cluster_id, spikes in tqdm(space_sub_spike_times.items()):\n",
    "        _ = []\n",
    "        ripple_start = []\n",
    "        for index, row in real_ripple_summary[real_ripple_summary[\"Location seed\"] == \"Medial\"].iterrows():\n",
    "            time_center = row[\"Start (s)\"] + row[row.index.str.contains('lag')].min()# either sum zero or sum a negative value\n",
    "            _.append(spikes[(spikes > time_center - window[0]) & (spikes < time_center + window[1])]-time_center)\n",
    "            ripple_start.append(time_center)\n",
    "        spikes_per_ripple_medial[cluster_id] = (_, ripple_start) \n",
    "    \n",
    "    _ = [(key, np.concatenate(spikes_per_ripple_medial[key][0]), len(spikes_per_ripple_medial[key][0])) for key in spikes_per_ripple_medial.keys()]\n",
    "\n",
    "    out_medial = []\n",
    "    for key, q, num_ripples in _:\n",
    "        if (len(q[q<0])/num_ripples)>0:\n",
    "            den = (len(q[q<0])/num_ripples)\n",
    "        else:\n",
    "            den = 1\n",
    "        out_medial.append((key, ((len(q[q>0])/num_ripples)/1.2)/den))\n",
    "\n",
    "    spikes_per_ripple_lateral = {}\n",
    "    for cluster_id, spikes in tqdm(space_sub_spike_times.items()):\n",
    "        _ = []\n",
    "        ripple_start = []\n",
    "        for index, row in real_ripple_summary[real_ripple_summary[\"Location seed\"] == \"Lateral\"].iterrows():\n",
    "            time_center = row[\"Start (s)\"] + row[row.index.str.contains('lag')].min()# either sum zero or sum a negative value\n",
    "            _.append(spikes[(spikes > time_center - window[0]) & (spikes < time_center + window[1])]-time_center)\n",
    "            ripple_start.append(time_center)\n",
    "        spikes_per_ripple_lateral[cluster_id] = (_, ripple_start) \n",
    "\n",
    "    _ = [(key, np.concatenate(spikes_per_ripple_lateral[key][0]), len(spikes_per_ripple_lateral[key][0])) for key in spikes_per_ripple_lateral.keys()]\n",
    "\n",
    "    out_lateral = []\n",
    "    for key, q, num_ripples in _:\n",
    "        if (len(q[q<0])/num_ripples)>0:\n",
    "            den = (len(q[q<0])/num_ripples)\n",
    "        else:\n",
    "            den = 1\n",
    "        out_lateral.append((key, ((len(q[q>0])/num_ripples)/1.2)/den))\n",
    "\n",
    "\n",
    "\n",
    "    mod_df = pd.concat([pd.DataFrame(out_lateral, columns=[\"unit_id\", \"modulation lat\"]), pd.DataFrame(out_medial, columns=[\"unit_id\", \"modulation med\"])[\"modulation med\"]], axis=1).set_index(\"unit_id\")\n",
    "\n",
    "    out = pd.concat([units, mod_df], axis=1).groupby(\"ecephys_structure_acronym\")[[\"modulation lat\", \"modulation med\"]].mean()\n",
    "    spikes_summary[session_id] = out\n",
    "    print(out)\n",
    "    return spikes_summary"
   ]
  },
  {
   "cell_type": "code",
   "execution_count": null,
   "id": "4ff19d34-5543-4a89-9084-deb865f48686",
   "metadata": {
    "tags": []
   },
   "outputs": [
    {
     "name": "stderr",
     "output_type": "stream",
     "text": [
      "/alzheimer/Roberto/Software/mambaforge/envs/De-Filippo-et-al-2022/lib/python3.7/site-packages/allensdk/brain_observatory/ecephys/ecephys_session.py:1348: UserWarning: Session includes invalid time intervals that could be accessed with the attribute 'invalid_times',Spikes within these intervals are invalid and may need to be excluded from the analysis.\n",
      "  warnings.warn(\"Session includes invalid time intervals that could \"\n"
     ]
    },
    {
     "data": {
      "text/html": [
       "<pre style=\"white-space:pre;overflow-x:auto;line-height:normal;font-family:Menlo,'DejaVu Sans Mono',consolas,'Courier New',monospace\">number ripples on best probe: <span style=\"color: #008080; text-decoration-color: #008080; font-weight: bold\">1819</span>\n",
       "</pre>\n"
      ],
      "text/plain": [
       "number ripples on best probe: \u001b[1;36m1819\u001b[0m\n"
      ]
     },
     "metadata": {},
     "output_type": "display_data"
    },
    {
     "data": {
      "text/html": [
       "<pre style=\"white-space:pre;overflow-x:auto;line-height:normal;font-family:Menlo,'DejaVu Sans Mono',consolas,'Courier New',monospace\"><span style=\"color: #008080; text-decoration-color: #008080; font-weight: bold\">771990200</span> Recording in each ML section: <span style=\"color: #00ff00; text-decoration-color: #00ff00; font-style: italic\">True</span>\n",
       "</pre>\n"
      ],
      "text/plain": [
       "\u001b[1;36m771990200\u001b[0m Recording in each ML section: \u001b[3;92mTrue\u001b[0m\n"
      ]
     },
     "metadata": {},
     "output_type": "display_data"
    },
    {
     "data": {
      "text/html": [
       "<pre style=\"white-space:pre;overflow-x:auto;line-height:normal;font-family:Menlo,'DejaVu Sans Mono',consolas,'Courier New',monospace\">In session <span style=\"color: #008080; text-decoration-color: #008080; font-weight: bold\">771990200</span> process:<span style=\"font-weight: bold\">[(</span><span style=\"color: #008000; text-decoration-color: #008000\">'2-CA1'</span>, <span style=\"color: #008000; text-decoration-color: #008000\">'central'</span><span style=\"font-weight: bold\">)]</span>\n",
       "</pre>\n"
      ],
      "text/plain": [
       "In session \u001b[1;36m771990200\u001b[0m process:\u001b[1m[\u001b[0m\u001b[1m(\u001b[0m\u001b[32m'2-CA1'\u001b[0m, \u001b[32m'central'\u001b[0m\u001b[1m)\u001b[0m\u001b[1m]\u001b[0m\n"
      ]
     },
     "metadata": {},
     "output_type": "display_data"
    },
    {
     "name": "stderr",
     "output_type": "stream",
     "text": [
      "100%|█████████████████████████████████████████████████████████████████████████████████████████████████████████████████████████████████████████████████████████████████████████████████████████████████████████████████████████████████| 1819/1819 [00:23<00:00, 77.72it/s]\n"
     ]
    },
    {
     "data": {
      "text/html": [
       "<pre style=\"white-space:pre;overflow-x:auto;line-height:normal;font-family:Menlo,'DejaVu Sans Mono',consolas,'Courier New',monospace\">in <span style=\"color: #008080; text-decoration-color: #008080; font-weight: bold\">771990200</span>, medial ripples number: <span style=\"color: #008080; text-decoration-color: #008080; font-weight: bold\">127</span>, lateral ripples number: <span style=\"color: #008080; text-decoration-color: #008080; font-weight: bold\">580</span>\n",
       "</pre>\n"
      ],
      "text/plain": [
       "in \u001b[1;36m771990200\u001b[0m, medial ripples number: \u001b[1;36m127\u001b[0m, lateral ripples number: \u001b[1;36m580\u001b[0m\n"
      ]
     },
     "metadata": {},
     "output_type": "display_data"
    },
    {
     "data": {
      "application/vnd.jupyter.widget-view+json": {
       "model_id": "8d4eb3a70e5e4843afc58b4769e09478",
       "version_major": 2,
       "version_minor": 0
      },
      "text/plain": [
       "  0%|          | 0/546 [00:00<?, ?it/s]"
      ]
     },
     "metadata": {},
     "output_type": "display_data"
    },
    {
     "data": {
      "application/vnd.jupyter.widget-view+json": {
       "model_id": "a2fa35bf1b8d48688422e7534f5c8ffb",
       "version_major": 2,
       "version_minor": 0
      },
      "text/plain": [
       "  0%|          | 0/546 [00:00<?, ?it/s]"
      ]
     },
     "metadata": {},
     "output_type": "display_data"
    },
    {
     "data": {
      "text/html": [
       "<pre style=\"white-space:pre;overflow-x:auto;line-height:normal;font-family:Menlo,'DejaVu Sans Mono',consolas,'Courier New',monospace\">                           modulation lat  modulation med\n",
       "ecephys_structure_acronym                                \n",
       "APN                              <span style=\"color: #008080; text-decoration-color: #008080; font-weight: bold\">1.013923</span>        <span style=\"color: #008080; text-decoration-color: #008080; font-weight: bold\">1.241495</span>\n",
       "CA1                              <span style=\"color: #008080; text-decoration-color: #008080; font-weight: bold\">1.900165</span>        <span style=\"color: #008080; text-decoration-color: #008080; font-weight: bold\">1.923281</span>\n",
       "CA2                              <span style=\"color: #008080; text-decoration-color: #008080; font-weight: bold\">1.273590</span>        <span style=\"color: #008080; text-decoration-color: #008080; font-weight: bold\">1.495572</span>\n",
       "CA3                              <span style=\"color: #008080; text-decoration-color: #008080; font-weight: bold\">1.209624</span>        <span style=\"color: #008080; text-decoration-color: #008080; font-weight: bold\">1.471597</span>\n",
       "DG                               <span style=\"color: #008080; text-decoration-color: #008080; font-weight: bold\">1.247449</span>        <span style=\"color: #008080; text-decoration-color: #008080; font-weight: bold\">1.174813</span>\n",
       "LGd                              <span style=\"color: #008080; text-decoration-color: #008080; font-weight: bold\">0.984572</span>        <span style=\"color: #008080; text-decoration-color: #008080; font-weight: bold\">1.020623</span>\n",
       "LP                               <span style=\"color: #008080; text-decoration-color: #008080; font-weight: bold\">0.961979</span>        <span style=\"color: #008080; text-decoration-color: #008080; font-weight: bold\">0.935994</span>\n",
       "PO                               <span style=\"color: #008080; text-decoration-color: #008080; font-weight: bold\">0.937875</span>        <span style=\"color: #008080; text-decoration-color: #008080; font-weight: bold\">0.884109</span>\n",
       "POL                              <span style=\"color: #008080; text-decoration-color: #008080; font-weight: bold\">0.914775</span>        <span style=\"color: #008080; text-decoration-color: #008080; font-weight: bold\">1.833507</span>\n",
       "ProS                             <span style=\"color: #008080; text-decoration-color: #008080; font-weight: bold\">0.927077</span>        <span style=\"color: #008080; text-decoration-color: #008080; font-weight: bold\">0.829163</span>\n",
       "TH                               <span style=\"color: #008080; text-decoration-color: #008080; font-weight: bold\">1.004858</span>        <span style=\"color: #008080; text-decoration-color: #008080; font-weight: bold\">0.988816</span>\n",
       "VISal                            <span style=\"color: #008080; text-decoration-color: #008080; font-weight: bold\">1.081686</span>        <span style=\"color: #008080; text-decoration-color: #008080; font-weight: bold\">1.287436</span>\n",
       "VISam                            <span style=\"color: #008080; text-decoration-color: #008080; font-weight: bold\">0.950748</span>        <span style=\"color: #008080; text-decoration-color: #008080; font-weight: bold\">1.131235</span>\n",
       "VISli                            <span style=\"color: #008080; text-decoration-color: #008080; font-weight: bold\">1.065537</span>        <span style=\"color: #008080; text-decoration-color: #008080; font-weight: bold\">1.132455</span>\n",
       "VISp                             <span style=\"color: #008080; text-decoration-color: #008080; font-weight: bold\">0.980568</span>        <span style=\"color: #008080; text-decoration-color: #008080; font-weight: bold\">1.116316</span>\n",
       "VISpm                            <span style=\"color: #008080; text-decoration-color: #008080; font-weight: bold\">0.958247</span>        <span style=\"color: #008080; text-decoration-color: #008080; font-weight: bold\">0.972446</span>\n",
       "VISrl                            <span style=\"color: #008080; text-decoration-color: #008080; font-weight: bold\">1.065625</span>        <span style=\"color: #008080; text-decoration-color: #008080; font-weight: bold\">1.286808</span>\n",
       "</pre>\n"
      ],
      "text/plain": [
       "                           modulation lat  modulation med\n",
       "ecephys_structure_acronym                                \n",
       "APN                              \u001b[1;36m1.013923\u001b[0m        \u001b[1;36m1.241495\u001b[0m\n",
       "CA1                              \u001b[1;36m1.900165\u001b[0m        \u001b[1;36m1.923281\u001b[0m\n",
       "CA2                              \u001b[1;36m1.273590\u001b[0m        \u001b[1;36m1.495572\u001b[0m\n",
       "CA3                              \u001b[1;36m1.209624\u001b[0m        \u001b[1;36m1.471597\u001b[0m\n",
       "DG                               \u001b[1;36m1.247449\u001b[0m        \u001b[1;36m1.174813\u001b[0m\n",
       "LGd                              \u001b[1;36m0.984572\u001b[0m        \u001b[1;36m1.020623\u001b[0m\n",
       "LP                               \u001b[1;36m0.961979\u001b[0m        \u001b[1;36m0.935994\u001b[0m\n",
       "PO                               \u001b[1;36m0.937875\u001b[0m        \u001b[1;36m0.884109\u001b[0m\n",
       "POL                              \u001b[1;36m0.914775\u001b[0m        \u001b[1;36m1.833507\u001b[0m\n",
       "ProS                             \u001b[1;36m0.927077\u001b[0m        \u001b[1;36m0.829163\u001b[0m\n",
       "TH                               \u001b[1;36m1.004858\u001b[0m        \u001b[1;36m0.988816\u001b[0m\n",
       "VISal                            \u001b[1;36m1.081686\u001b[0m        \u001b[1;36m1.287436\u001b[0m\n",
       "VISam                            \u001b[1;36m0.950748\u001b[0m        \u001b[1;36m1.131235\u001b[0m\n",
       "VISli                            \u001b[1;36m1.065537\u001b[0m        \u001b[1;36m1.132455\u001b[0m\n",
       "VISp                             \u001b[1;36m0.980568\u001b[0m        \u001b[1;36m1.116316\u001b[0m\n",
       "VISpm                            \u001b[1;36m0.958247\u001b[0m        \u001b[1;36m0.972446\u001b[0m\n",
       "VISrl                            \u001b[1;36m1.065625\u001b[0m        \u001b[1;36m1.286808\u001b[0m\n"
      ]
     },
     "metadata": {},
     "output_type": "display_data"
    },
    {
     "data": {
      "text/html": [
       "<pre style=\"white-space:pre;overflow-x:auto;line-height:normal;font-family:Menlo,'DejaVu Sans Mono',consolas,'Courier New',monospace\"><span style=\"color: #008080; text-decoration-color: #008080; font-weight: bold\">786091066</span>\n",
       "</pre>\n"
      ],
      "text/plain": [
       "\u001b[1;36m786091066\u001b[0m\n"
      ]
     },
     "metadata": {},
     "output_type": "display_data"
    }
   ],
   "source": [
    "%%time \n",
    "#%%capture --no-stdout\n",
    "manager = Manager()\n",
    "\n",
    "spikes_summary = manager.dict()\n",
    "\n",
    "input_multiprocessing = []\n",
    "for ecephys_session_id in  ripples_calcs.keys():\n",
    "        input_multiprocessing.append((ecephys_session_id, spikes_summary)) \n",
    "\n",
    "pool = Pool(processes=30) # Instantiate the pool here\n",
    "\n",
    "pool.starmap_async(process, [x for x in input_multiprocessing])\n",
    "pool.close()\n",
    "pool.join()\n",
    "print(len(spikes_summary))"
   ]
  },
  {
   "cell_type": "code",
   "execution_count": null,
   "id": "424f6771-6652-40b9-8286-c167474b462b",
   "metadata": {},
   "outputs": [],
   "source": []
  }
 ],
 "metadata": {
  "kernelspec": {
   "display_name": "Python 3 (ipykernel)",
   "language": "python",
   "name": "python3"
  },
  "language_info": {
   "codemirror_mode": {
    "name": "ipython",
    "version": 3
   },
   "file_extension": ".py",
   "mimetype": "text/x-python",
   "name": "python",
   "nbconvert_exporter": "python",
   "pygments_lexer": "ipython3",
   "version": "3.7.12"
  }
 },
 "nbformat": 4,
 "nbformat_minor": 5
}
